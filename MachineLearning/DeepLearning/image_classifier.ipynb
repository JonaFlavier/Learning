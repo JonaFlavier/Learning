{
  "nbformat": 4,
  "nbformat_minor": 0,
  "metadata": {
    "colab": {
      "provenance": [],
      "mount_file_id": "1_2kkABumlaonz6VS_BTmvLACmlD4Qh-9",
      "authorship_tag": "ABX9TyPNKH0Z8s0NhLbc5rcgGnIb",
      "include_colab_link": true
    },
    "kernelspec": {
      "name": "python3",
      "display_name": "Python 3"
    },
    "language_info": {
      "name": "python"
    }
  },
  "cells": [
    {
      "cell_type": "markdown",
      "metadata": {
        "id": "view-in-github",
        "colab_type": "text"
      },
      "source": [
        "<a href=\"https://colab.research.google.com/github/JonaFlavier/Learning/blob/main/MachineLearning/DeepLearning/image_classifier.ipynb\" target=\"_parent\"><img src=\"https://colab.research.google.com/assets/colab-badge.svg\" alt=\"Open In Colab\"/></a>"
      ]
    },
    {
      "cell_type": "markdown",
      "source": [
        "# Deep Convoluted Neural Network (DCNN)\n",
        "\n",
        "\n",
        "\n",
        "\n"
      ],
      "metadata": {
        "id": "FkgGjkGq76tL"
      }
    },
    {
      "cell_type": "markdown",
      "source": [
        "## SETUP AND LOAD DATA"
      ],
      "metadata": {
        "id": "-DP_cxpW8mCI"
      }
    },
    {
      "cell_type": "markdown",
      "source": [
        "1.1 Install Dependencies and Setup"
      ],
      "metadata": {
        "id": "y8hPcKbe899P"
      }
    },
    {
      "cell_type": "code",
      "source": [
        "!pip install tensorflow tensorflow-gpu opencv-python matplotlib\n",
        "print(\"Installation completed\")\n",
        "!pip list"
      ],
      "metadata": {
        "id": "f5qFAP8M9Lon"
      },
      "execution_count": null,
      "outputs": []
    },
    {
      "cell_type": "code",
      "source": [
        "import tensorflow as tf #\n",
        "import os # to navigate through file structures"
      ],
      "metadata": {
        "id": "ac5_mxlv-o4v"
      },
      "execution_count": 6,
      "outputs": []
    },
    {
      "cell_type": "code",
      "source": [
        "# avoid OOM errors by setting GPU Memory Consumption Growth\n",
        "# get list of all physical gpu devices you have access to\n",
        "gpus = tf.config.experimental.list_physical_devices('GPU')\n",
        "for gpu in gpus:\n",
        "  # for every gpu, limit the memory growth\n",
        "  tf.config.experimental.set_memory_growth(gpu, True)\n"
      ],
      "metadata": {
        "id": "i-HcSbpQC6GO"
      },
      "execution_count": null,
      "outputs": []
    },
    {
      "cell_type": "markdown",
      "source": [
        "1.2 Remove unclear and dodgy images"
      ],
      "metadata": {
        "id": "J3X8Hftu9EpN"
      }
    },
    {
      "cell_type": "code",
      "source": [
        "import cv2 #\n",
        "import imghdr #\n",
        "data_dir = 'data' # directory\n",
        "\n",
        "image_exts = ['jpeg', 'jpg', 'bmp', 'png']\n"
      ],
      "metadata": {
        "id": "JWQ0u5N59MWf"
      },
      "execution_count": null,
      "outputs": []
    },
    {
      "cell_type": "markdown",
      "source": [
        "1.3 Load Data"
      ],
      "metadata": {
        "id": "U8JzouSn9IuQ"
      }
    },
    {
      "cell_type": "code",
      "execution_count": null,
      "metadata": {
        "id": "Fg7OMUg46vuJ"
      },
      "outputs": [],
      "source": []
    }
  ]
}