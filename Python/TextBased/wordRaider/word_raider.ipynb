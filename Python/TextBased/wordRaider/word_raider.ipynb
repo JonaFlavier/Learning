{
  "cells": [
    {
      "cell_type": "markdown",
      "metadata": {
        "id": "view-in-github",
        "colab_type": "text"
      },
      "source": [
        "<a href=\"https://colab.research.google.com/github/JonaFlavier/Learning/blob/main/Python/TextBased/wordRaider/word_raider.ipynb\" target=\"_parent\"><img src=\"https://colab.research.google.com/assets/colab-badge.svg\" alt=\"Open In Colab\"/></a>"
      ]
    },
    {
      "cell_type": "code",
      "execution_count": null,
      "metadata": {
        "id": "jVJIsbh8YU8n"
      },
      "outputs": [],
      "source": [
        "import random"
      ]
    },
    {
      "cell_type": "code",
      "execution_count": null,
      "metadata": {
        "id": "njqOOaJTYU8q"
      },
      "outputs": [],
      "source": [
        "game_title= \"Word Raider\"\n",
        "# word bank starts empty\n",
        "word_bank_list = []"
      ]
    },
    {
      "cell_type": "code",
      "execution_count": null,
      "metadata": {
        "id": "mkma4ZA4YU8r"
      },
      "outputs": [],
      "source": [
        "with open(\"words.txt\") as word_file:\n",
        "    for row in word_file:\n",
        "        word_bank_list.append(row.rstrip().lower())"
      ]
    },
    {
      "cell_type": "code",
      "execution_count": null,
      "metadata": {
        "id": "6e_z1bNxYU8r",
        "outputId": "44b80a86-865d-4121-f546-4f4d4aa4bc96"
      },
      "outputs": [
        {
          "name": "stdout",
          "output_type": "stream",
          "text": [
            "['bears', 'pears', 'lions', 'kings', 'queen', 'helps', 'learn', 'dates', 'mates', 'skate', 'apple', 'crate', 'plate', 'slate', 'rates', 'juice']\n"
          ]
        }
      ],
      "source": [
        "print(word_bank_list)"
      ]
    },
    {
      "cell_type": "code",
      "execution_count": null,
      "metadata": {
        "id": "MNmApO2CYU8s"
      },
      "outputs": [],
      "source": [
        "chosen = random.choice(word_bank_list)"
      ]
    },
    {
      "cell_type": "code",
      "execution_count": null,
      "metadata": {
        "id": "-fgJrAYhYU8s",
        "outputId": "46a1a1d0-d4b6-401c-a4a2-45a791d87b24"
      },
      "outputs": [
        {
          "name": "stdout",
          "output_type": "stream",
          "text": [
            "dates\n"
          ]
        }
      ],
      "source": [
        "print(chosen)"
      ]
    },
    {
      "cell_type": "code",
      "execution_count": null,
      "metadata": {
        "id": "_MI9Y2MAYU8s",
        "outputId": "b94eb993-8c63-4911-cec2-ff94a91d13c4"
      },
      "outputs": [
        {
          "name": "stdout",
          "output_type": "stream",
          "text": [
            "d\n",
            "a\n",
            "t\n",
            "e\n",
            "s\n"
          ]
        }
      ],
      "source": [
        "\n",
        "chosen_letters_dict = {}\n",
        "for letter in chosen: # for every letters in\n",
        "    print(letter)\n",
        "    chosen_letters_dict[letter]= False\n",
        "\n",
        "misplaced_correct_letters=[]\n",
        "incorrect_letters = []\n",
        "MAX_TURNS = 5\n"
      ]
    },
    {
      "cell_type": "code",
      "execution_count": null,
      "metadata": {
        "id": "AL2bhheEYU8t",
        "outputId": "6586d996-5c3a-4b54-e811-8e7aa891f6d9"
      },
      "outputs": [
        {
          "name": "stdout",
          "output_type": "stream",
          "text": [
            "{'d': False, 'a': False, 't': False, 'e': False, 's': False}\n"
          ]
        }
      ],
      "source": [
        "print(chosen_letters_dict)"
      ]
    },
    {
      "cell_type": "code",
      "execution_count": null,
      "metadata": {
        "id": "8zUw21pIYU8t"
      },
      "outputs": [],
      "source": [
        "welcome_msg = \"Welcome to word raider\""
      ]
    },
    {
      "cell_type": "code",
      "execution_count": null,
      "metadata": {
        "id": "ElHEnkzmYU8t"
      },
      "outputs": [],
      "source": [
        "def remaining_letters_filter(pair):\n",
        "    key, value = pair\n",
        "    return value\n",
        "\n",
        "def session_left(type):\n",
        "    if type == \"letters\":\n",
        "        left = list(filter(remaining_letters_filter , chosen_letters_dict.items()))\n",
        "        # print(left)\n",
        "        return len(left)\n",
        "\n",
        "    elif type == \"turns\":\n",
        "        return MAX_TURNS - current_turns"
      ]
    },
    {
      "cell_type": "code",
      "execution_count": null,
      "metadata": {
        "id": "Tpv3FzZUYU8t",
        "outputId": "c6d0433b-4f18-44f2-f201-b04150bc5a05"
      },
      "outputs": [
        {
          "name": "stdout",
          "output_type": "stream",
          "text": [
            "0 5\n"
          ]
        }
      ],
      "source": [
        "val1= session_left(\"letters\")\n",
        "val2 =session_left(\"turns\")\n",
        "print(\"{} {}\".format(val1, val2))"
      ]
    },
    {
      "cell_type": "code",
      "execution_count": null,
      "metadata": {
        "id": "lN5GUhGyYU8u"
      },
      "outputs": [],
      "source": [
        "# inform user of :\n",
        "\n",
        "# misplaced letters in the player's guess\n",
        "msg_info = {\n",
        "    \"letters to guess\": len(chosen),\n",
        "    \"misplaced letters\": 0,\n",
        "    \"incorrect letters\": 0,\n",
        "    \"remaining turns\": session_left\n",
        "    }\n",
        "# max number of turns we will allow\n",
        "# number of turns the player has currently made\n",
        "\n",
        "def game_loop():\n",
        "    current_turns = 0\n",
        "    while(True):\n",
        "        guess = input(\"Enter a {} letter word to guess: \".format(len(chosen)))\n",
        "        # print(guess)\n",
        "        if(guess.isalpha() and len(guess) == 5 and (MAX_TURNS-current_turns)>0):\n",
        "            # correct\n",
        "            result_list =[]\n",
        "            guess.lower()\n",
        "            chosen_letters_list = list(chosen_letters_dict.keys())\n",
        "            for char_idx in range(MAX_TURNS):\n",
        "                # if a letter is in the correct location\n",
        "                if(guess[char_idx] == chosen_letters_list[char_idx]):\n",
        "                    print(\"Correct letter: {}\".format(guess[char_idx]))\n",
        "                    chosen_letters_dict[guess[char_idx]] = True\n",
        "                    result_list.append(guess[char_idx])\n",
        "                    # if letter was previously in misplaced list remove it\n",
        "                    if guess[char_idx] in misplaced_correct_letters:\n",
        "                        misplaced_correct_letters.remove(guess[char_idx])\n",
        "                elif (guess[char_idx] in chosen_letters_list):\n",
        "                    # if letter not in misplaced list, append it\n",
        "                    if(guess[char_idx] not in misplaced_correct_letters):\n",
        "                        misplaced_correct_letters.append(guess[char_idx])\n",
        "                    result_list.append(\"_\")\n",
        "                else:\n",
        "                    # if letter not in incorrect list, append it\n",
        "                    if(guess[char_idx] not in incorrect_letters):\n",
        "                        incorrect_letters.append(guess[char_idx])\n",
        "\n",
        "                    result_list.append(\"_\")\n",
        "            current_turns = current_turns + 1\n",
        "\n",
        "            print(\"\".join(result_list))\n",
        "            print(\"Misplaced letters: {}\".format(misplaced_correct_letters))\n",
        "            print(\"Incorrect letters: {}\".format(incorrect_letters))\n",
        "\n",
        "            if(result_list== chosen_letters_list):\n",
        "                print(\"Word '{}' was guessed correctly\\nExiting Game\".format(chosen))\n",
        "                break\n",
        "            else:\n",
        "                print(\"Remaining Turns: {}\".format(MAX_TURNS-current_turns))\n",
        "\n",
        "\n",
        "        elif guess == \"0\":\n",
        "            print(\"Exiting the game\")\n",
        "            break\n",
        "        elif (MAX_TURNS - current_turns)==0:\n",
        "            print(\"Run out of turns\\nWord: {}\\nExiting the game\".format(chosen))\n",
        "            break\n",
        "        else:\n",
        "            print(\"Invalid input, please enter letters only.\")\n",
        "\n",
        "        print(\"###############################################\")\n",
        "\n"
      ]
    },
    {
      "cell_type": "code",
      "execution_count": null,
      "metadata": {
        "id": "KfwlShCTYU8u",
        "outputId": "8c0205b7-aa7c-45aa-8c17-8175413feb5a"
      },
      "outputs": [
        {
          "name": "stdout",
          "output_type": "stream",
          "text": [
            "Correct letter: s\n",
            "____s\n",
            "Misplaced letters: ['t', 'a']\n",
            "Incorrect letters: ['r']\n",
            "Remaining Turns: 4\n",
            "###############################################\n",
            "Correct letter: a\n",
            "Correct letter: t\n",
            "Correct letter: e\n",
            "Correct letter: s\n",
            "_ates\n",
            "Misplaced letters: []\n",
            "Incorrect letters: ['r']\n",
            "Remaining Turns: 3\n",
            "###############################################\n",
            "Correct letter: a\n",
            "Correct letter: t\n",
            "Correct letter: e\n",
            "Correct letter: s\n",
            "_ates\n",
            "Misplaced letters: []\n",
            "Incorrect letters: ['r', 'l']\n",
            "Remaining Turns: 2\n",
            "###############################################\n",
            "Correct letter: a\n",
            "Correct letter: t\n",
            "Correct letter: e\n",
            "Correct letter: s\n",
            "_ates\n",
            "Misplaced letters: []\n",
            "Incorrect letters: ['r', 'l', 'h']\n",
            "Remaining Turns: 1\n",
            "###############################################\n",
            "Correct letter: a\n",
            "Correct letter: t\n",
            "Correct letter: e\n",
            "Correct letter: s\n",
            "_ates\n",
            "Misplaced letters: []\n",
            "Incorrect letters: ['r', 'l', 'h']\n",
            "Remaining Turns: 0\n",
            "###############################################\n",
            "Run out of turns\n",
            "Word: dates\n",
            "Exiting the game\n"
          ]
        }
      ],
      "source": [
        "game_loop()"
      ]
    }
  ],
  "metadata": {
    "kernelspec": {
      "display_name": "Python 3 (ipykernel)",
      "language": "python",
      "name": "python3"
    },
    "language_info": {
      "codemirror_mode": {
        "name": "ipython",
        "version": 3
      },
      "file_extension": ".py",
      "mimetype": "text/x-python",
      "name": "python",
      "nbconvert_exporter": "python",
      "pygments_lexer": "ipython3",
      "version": "3.10.5"
    },
    "colab": {
      "provenance": [],
      "include_colab_link": true
    }
  },
  "nbformat": 4,
  "nbformat_minor": 0
}